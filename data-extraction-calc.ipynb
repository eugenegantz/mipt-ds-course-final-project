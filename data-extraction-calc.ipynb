{
 "cells": [
  {
   "cell_type": "markdown",
   "metadata": {},
   "source": [
    "__Задача__\n",
    "- Загрузить уже собранные записи об изделиях, а также их сроков изготовления (`./data/crm/train.json`)\n",
    "- Запросить расчеты временем из api калькулятора\n",
    "- Полученные данные записать в файл для дальнейшего сравнения `./data/calc/prod_t.json`\n",
    "\n",
    "То есть сравнить фактическое время производства с просчетом"
   ]
  },
  {
   "cell_type": "code",
   "execution_count": null,
   "metadata": {},
   "outputs": [],
   "source": [
    "import re\n",
    "import os\n",
    "import json\n",
    "import time\n",
    "import requests\n",
    "import datetime\n",
    "import pandas as pd\n",
    "\n",
    "from IPython.display import display\n",
    "from IPython.core.display import HTML\n",
    "from IPython.display import clear_output\n",
    "\n",
    "from lib.awws_db_connection.fabula_database_connection import FabulaDatabaseConnection\n",
    "\n",
    "import lib.utils as utils"
   ]
  },
  {
   "cell_type": "code",
   "execution_count": null,
   "metadata": {},
   "outputs": [],
   "source": [
    "exec(open(\"../config/encdec.py\").read())"
   ]
  },
  {
   "cell_type": "code",
   "execution_count": null,
   "metadata": {},
   "outputs": [],
   "source": [
    "f = open('../config/api-config.json', 'r', encoding='utf-8')\n",
    "api_config = json.loads(''.join(f.readlines()))"
   ]
  },
  {
   "cell_type": "code",
   "execution_count": null,
   "metadata": {},
   "outputs": [],
   "source": [
    "f = open('./data/crm/train.json', 'r', encoding='utf-8')\n",
    "train_data = json.loads(''.join(f.readlines()))"
   ]
  },
  {
   "cell_type": "code",
   "execution_count": 43,
   "metadata": {},
   "outputs": [
    {
     "data": {
      "text/plain": [
       "10340"
      ]
     },
     "execution_count": 43,
     "metadata": {},
     "output_type": "execute_result"
    }
   ],
   "source": [
    "len(train_data)"
   ]
  },
  {
   "cell_type": "code",
   "execution_count": 44,
   "metadata": {},
   "outputs": [
    {
     "data": {
      "text/plain": [
       "{'mmid': 1457017,\n",
       " 'gs': 'ГПШрПЛ02',\n",
       " 'prod_t': 8708.0,\n",
       " 'sum': 1114,\n",
       " 'user_groups': 1,\n",
       " 'userId': 12.281156926653441,\n",
       " 'gsid': 'ТСИЗ3201',\n",
       " 'post_id': '230',\n",
       " '__источник': 'фа',\n",
       " 'материал': 'ТЦШКОЖ14',\n",
       " 'тираж': '50',\n",
       " 'длина,м': '0.09',\n",
       " 'ширина,м': '0.07',\n",
       " 'способ печати': 'ПЗРШИН11',\n",
       " 'контурная порезка на рулоне': 'Добавить',\n",
       " 'макет': 'ТСИЗИММ2'}"
      ]
     },
     "execution_count": 44,
     "metadata": {},
     "output_type": "execute_result"
    }
   ],
   "source": [
    "train_data[0]"
   ]
  },
  {
   "cell_type": "markdown",
   "metadata": {},
   "source": [
    "Использовать признаки как значения пользовательской формы магазина. \\\n",
    "Из полученной формы собрать запрос в api просчета"
   ]
  },
  {
   "cell_type": "code",
   "execution_count": null,
   "metadata": {},
   "outputs": [],
   "source": [
    "reqs = dict()\n",
    "\n",
    "ignore_props = {\n",
    "    'mmid': 1,\n",
    "    'gs': 1,\n",
    "#     'prod_t': 1,\n",
    "    'sum': 1,\n",
    "    'user_groups': 1,\n",
    "}\n",
    "\n",
    "for row in train_data:\n",
    "    mmid = row['mmid']\n",
    "    \n",
    "    reqs[mmid] = reqs.get(mmid, {\n",
    "        'method': 'calcProductDurations',\n",
    "        'argument': {\n",
    "            'postId': '',\n",
    "            '_firmId': '',\n",
    "            'mov': {}\n",
    "        }\n",
    "    })\n",
    "    \n",
    "    for key in row:\n",
    "        val = row[key]\n",
    "\n",
    "        if ignore_props.get(key):\n",
    "            continue\n",
    "\n",
    "        elif 'prod_t' == key:\n",
    "            reqs[mmid]['t_prod'] = val\n",
    "            \n",
    "        elif 'userId' == key:\n",
    "            reqs[mmid]['argument']['_firmId'] = custom_dec(val)\n",
    "\n",
    "        elif 'post_id' == key:\n",
    "            reqs[mmid]['argument']['postId'] = val\n",
    "\n",
    "        elif key in ['email', 'tel']:\n",
    "            continue\n",
    "\n",
    "        else:\n",
    "            reqs[mmid]['argument']['mov'][key] = val"
   ]
  },
  {
   "cell_type": "markdown",
   "metadata": {},
   "source": [
    "Произвести непосредственно запросы. \\\n",
    "10 тыс. запросов (процесс не быстрый)"
   ]
  },
  {
   "cell_type": "code",
   "execution_count": null,
   "metadata": {},
   "outputs": [],
   "source": [
    "url = f\"http://{api_config['server']}/api_v1/\"\n",
    "\n",
    "for i, mmid in enumerate(reqs):\n",
    "    if 't_prod_api' in reqs[mmid]:\n",
    "        print('pass', i, mmid)\n",
    "        clear_output()\n",
    "        continue\n",
    "    \n",
    "    body = reqs[mmid]\n",
    "    res = requests.post(url, json=body);\n",
    "    resj = res.json()\n",
    "\n",
    "    t_prod = utils.nget(body, ['t_prod'])\n",
    "    api_t_prod = utils.nget(resj, ['data', 'производство', 'duration'])\n",
    "\n",
    "    reqs[mmid]['t_prod_api'] = api_t_prod\n",
    "        \n",
    "    print(i, mmid, t_prod, api_t_prod)\n",
    "\n",
    "    # time.sleep(1)\n",
    "        \n",
    "    clear_output()"
   ]
  },
  {
   "cell_type": "code",
   "execution_count": null,
   "metadata": {},
   "outputs": [],
   "source": [
    "final_prod_t_data = []\n",
    "\n",
    "for row in train_data:\n",
    "    mmid = row['mmid']\n",
    "    \n",
    "    prod_t_api = utils.nget(reqs, [mmid, 't_prod_api'])\n",
    "    \n",
    "    if prod_t_api:\n",
    "        final_prod_t_data.append([mmid, prod_t_api])"
   ]
  },
  {
   "cell_type": "code",
   "execution_count": 45,
   "metadata": {},
   "outputs": [
    {
     "data": {
      "text/plain": [
       "[[1467211, 622.4847617530847],\n",
       " [1469090, 1262.5675675675675],\n",
       " [1469108, 1262.5675675675675],\n",
       " [1469624, 976.682270901337],\n",
       " [1469702, 589.1632653061224],\n",
       " [1469758, 1080],\n",
       " [1469767, 1620],\n",
       " [1470247, 1620],\n",
       " [1470274, 1620],\n",
       " [1470278, 1620]]"
      ]
     },
     "execution_count": 45,
     "metadata": {},
     "output_type": "execute_result"
    }
   ],
   "source": [
    "final_prod_t_data[0:10]"
   ]
  },
  {
   "cell_type": "code",
   "execution_count": null,
   "metadata": {},
   "outputs": [],
   "source": [
    "# Записать в файл\n",
    "\n",
    "f = open('./data/calc/prod_t.json', 'w', encoding='utf-8')\n",
    "f.write(json.dumps(final_prod_t_data, ensure_ascii=False))"
   ]
  },
  {
   "cell_type": "markdown",
   "metadata": {},
   "source": [
    "Получилась json матрица/таблица\n",
    "\n",
    "```javascript\n",
    "[\n",
    "    [идентификатор_записи, рассчитаное_время_работы_из_калькулятора]\n",
    "]\n",
    "```"
   ]
  }
 ],
 "metadata": {
  "kernelspec": {
   "display_name": "Python 3",
   "language": "python",
   "name": "python3"
  },
  "language_info": {
   "codemirror_mode": {
    "name": "ipython",
    "version": 3
   },
   "file_extension": ".py",
   "mimetype": "text/x-python",
   "name": "python",
   "nbconvert_exporter": "python",
   "pygments_lexer": "ipython3",
   "version": "3.8.5"
  }
 },
 "nbformat": 4,
 "nbformat_minor": 4
}
